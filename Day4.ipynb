{
 "cells": [
  {
   "cell_type": "code",
   "execution_count": 19,
   "id": "84eb2149-dbd2-4fdc-9efa-3d5cd14a4bd7",
   "metadata": {},
   "outputs": [],
   "source": [
    "# Day4   list data type"
   ]
  },
  {
   "cell_type": "code",
   "execution_count": 20,
   "id": "5a986f5f-2afd-49fc-8e66-d46d250d7b7b",
   "metadata": {},
   "outputs": [],
   "source": [
    "students = ['Roshini','Naveena','Kumar','Joseph','Abhi']"
   ]
  },
  {
   "cell_type": "code",
   "execution_count": 21,
   "id": "daece6cd-b93e-4232-aeed-e5afe24504fa",
   "metadata": {},
   "outputs": [
    {
     "name": "stdout",
     "output_type": "stream",
     "text": [
      "['Roshini', 'Naveena', 'Kumar', 'Joseph', 'Abhi']\n"
     ]
    }
   ],
   "source": [
    "print(students)"
   ]
  },
  {
   "cell_type": "code",
   "execution_count": 22,
   "id": "a0603a00-919e-46b7-b22f-8f4d52b93fdb",
   "metadata": {},
   "outputs": [],
   "source": [
    "#to know the datatype"
   ]
  },
  {
   "cell_type": "code",
   "execution_count": 23,
   "id": "edf27bb9-5b90-43a3-b43f-ba69580b3a1b",
   "metadata": {},
   "outputs": [
    {
     "data": {
      "text/plain": [
       "list"
      ]
     },
     "execution_count": 23,
     "metadata": {},
     "output_type": "execute_result"
    }
   ],
   "source": [
    "type(students)"
   ]
  },
  {
   "cell_type": "code",
   "execution_count": 24,
   "id": "07259094-8a85-4cc2-a213-9b2c82d44eb7",
   "metadata": {},
   "outputs": [],
   "source": [
    "#indexing"
   ]
  },
  {
   "cell_type": "code",
   "execution_count": 25,
   "id": "321326a7-1e6b-499d-82f3-3bef9b0787ef",
   "metadata": {},
   "outputs": [
    {
     "name": "stdout",
     "output_type": "stream",
     "text": [
      "JOSEPH\n"
     ]
    }
   ],
   "source": [
    "print(students[3].upper())"
   ]
  },
  {
   "cell_type": "code",
   "execution_count": 26,
   "id": "3855a49d-49a2-4d19-9ea1-38804fc41efa",
   "metadata": {},
   "outputs": [],
   "source": [
    "# Add new element in the list"
   ]
  },
  {
   "cell_type": "code",
   "execution_count": 27,
   "id": "c3dfca7e-ea8a-4da8-bc8a-f42b513cc0fa",
   "metadata": {},
   "outputs": [],
   "source": [
    "students.append('jadhav')"
   ]
  },
  {
   "cell_type": "code",
   "execution_count": 28,
   "id": "7cad1dde-0211-4319-a871-e8f1e77bf660",
   "metadata": {},
   "outputs": [
    {
     "name": "stdout",
     "output_type": "stream",
     "text": [
      "['Roshini', 'Naveena', 'Kumar', 'Joseph', 'Abhi', 'jadhav']\n"
     ]
    }
   ],
   "source": [
    "print(students)"
   ]
  },
  {
   "cell_type": "code",
   "execution_count": 29,
   "id": "f51e0fb5-5522-4c8a-b741-da3d7f4aeb53",
   "metadata": {},
   "outputs": [],
   "source": [
    "# insert method"
   ]
  },
  {
   "cell_type": "code",
   "execution_count": 30,
   "id": "633fec0b-7a6e-4074-b74b-69041c8ebd5b",
   "metadata": {},
   "outputs": [],
   "source": [
    "students.insert(2,'rakesh')"
   ]
  },
  {
   "cell_type": "code",
   "execution_count": 31,
   "id": "8287f041-1743-49da-b119-da9f58c5acf4",
   "metadata": {},
   "outputs": [
    {
     "name": "stdout",
     "output_type": "stream",
     "text": [
      "['Roshini', 'Naveena', 'rakesh', 'Kumar', 'Joseph', 'Abhi', 'jadhav']\n"
     ]
    }
   ],
   "source": [
    "print(students)"
   ]
  },
  {
   "cell_type": "code",
   "execution_count": 32,
   "id": "6f821c93-9a13-4ee8-81ff-8e6f3e703d71",
   "metadata": {},
   "outputs": [],
   "source": [
    "# modify list element "
   ]
  },
  {
   "cell_type": "code",
   "execution_count": 33,
   "id": "1cdec433-2fbc-4e14-8590-b4c96627fa9c",
   "metadata": {},
   "outputs": [],
   "source": [
    "students[1] = 'Suresh'"
   ]
  },
  {
   "cell_type": "code",
   "execution_count": 34,
   "id": "7cbef4a1-5c37-4336-9ea0-af1412db2272",
   "metadata": {},
   "outputs": [
    {
     "name": "stdout",
     "output_type": "stream",
     "text": [
      "['Roshini', 'Suresh', 'rakesh', 'Kumar', 'Joseph', 'Abhi', 'jadhav']\n"
     ]
    }
   ],
   "source": [
    "print(students)"
   ]
  },
  {
   "cell_type": "code",
   "execution_count": 35,
   "id": "302cf9b4-1647-4744-b3a8-ffe2b4e5244e",
   "metadata": {},
   "outputs": [],
   "source": [
    "# delete list elements"
   ]
  },
  {
   "cell_type": "code",
   "execution_count": 36,
   "id": "f2cbec6b-4cbb-4247-a290-5d5a142bddd1",
   "metadata": {},
   "outputs": [],
   "source": [
    "# permanently"
   ]
  },
  {
   "cell_type": "code",
   "execution_count": 38,
   "id": "7c29d6a5-2b19-4ce7-b423-f20fc779f937",
   "metadata": {},
   "outputs": [],
   "source": [
    "del students[0]"
   ]
  },
  {
   "cell_type": "code",
   "execution_count": 39,
   "id": "3b4d20a9-9b24-4e53-8e56-127c67d8accb",
   "metadata": {},
   "outputs": [
    {
     "name": "stdout",
     "output_type": "stream",
     "text": [
      "['Suresh', 'rakesh', 'Kumar', 'Joseph', 'Abhi', 'jadhav']\n"
     ]
    }
   ],
   "source": [
    "print(students)"
   ]
  },
  {
   "cell_type": "code",
   "execution_count": null,
   "id": "c35b966b-0ec7-4c25-adce-7c813536ecf6",
   "metadata": {},
   "outputs": [],
   "source": [
    "# delete temporarily using POP method"
   ]
  },
  {
   "cell_type": "code",
   "execution_count": 40,
   "id": "96da4e76-95a9-4c38-bf3d-d040c0702034",
   "metadata": {},
   "outputs": [],
   "source": [
    "x = students.pop()"
   ]
  },
  {
   "cell_type": "code",
   "execution_count": 41,
   "id": "c8c93944-f26b-4cc5-aedd-b29953a43806",
   "metadata": {},
   "outputs": [
    {
     "name": "stdout",
     "output_type": "stream",
     "text": [
      "['Suresh', 'rakesh', 'Kumar', 'Joseph', 'Abhi']\n"
     ]
    }
   ],
   "source": [
    "print(students)"
   ]
  },
  {
   "cell_type": "code",
   "execution_count": 42,
   "id": "55bd4af9-3161-4ecc-925e-d3cd63370309",
   "metadata": {},
   "outputs": [],
   "source": [
    "a = students.pop(0)"
   ]
  },
  {
   "cell_type": "code",
   "execution_count": null,
   "id": "d3183de5-6608-42f0-9e0c-03c3e89f226b",
   "metadata": {},
   "outputs": [],
   "source": [
    "print(students"
   ]
  }
 ],
 "metadata": {
  "kernelspec": {
   "display_name": "Python 3 (ipykernel)",
   "language": "python",
   "name": "python3"
  },
  "language_info": {
   "codemirror_mode": {
    "name": "ipython",
    "version": 3
   },
   "file_extension": ".py",
   "mimetype": "text/x-python",
   "name": "python",
   "nbconvert_exporter": "python",
   "pygments_lexer": "ipython3",
   "version": "3.11.7"
  }
 },
 "nbformat": 4,
 "nbformat_minor": 5
}
