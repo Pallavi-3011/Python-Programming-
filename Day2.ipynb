{
 "cells": [
  {
   "cell_type": "code",
   "execution_count": 6,
   "id": "762e334a-048a-42ae-a9cd-71efbc04f748",
   "metadata": {},
   "outputs": [],
   "source": [
    "# Day 2"
   ]
  },
  {
   "cell_type": "code",
   "execution_count": 7,
   "id": "ec6b1e30-3cdb-4003-9b89-030408b7f37a",
   "metadata": {},
   "outputs": [],
   "source": [
    "# strings"
   ]
  },
  {
   "cell_type": "code",
   "execution_count": 8,
   "id": "5888ec97-0010-444e-a06a-4cb8ac322f15",
   "metadata": {},
   "outputs": [],
   "source": [
    "name = \"pallavi\""
   ]
  },
  {
   "cell_type": "code",
   "execution_count": 9,
   "id": "114557fe-44ae-4419-9da0-0468e79988ba",
   "metadata": {},
   "outputs": [
    {
     "name": "stdout",
     "output_type": "stream",
     "text": [
      "pallavi\n"
     ]
    }
   ],
   "source": [
    "print(name)"
   ]
  },
  {
   "cell_type": "code",
   "execution_count": 10,
   "id": "1b40c5f3-45f7-4502-95ab-f4b1cdf608f5",
   "metadata": {},
   "outputs": [],
   "source": [
    "name1 = 'God is Good'"
   ]
  },
  {
   "cell_type": "code",
   "execution_count": 11,
   "id": "8c3f14e4-04db-4d3e-8bbb-1a9157df907a",
   "metadata": {},
   "outputs": [
    {
     "name": "stdout",
     "output_type": "stream",
     "text": [
      "God is Good\n"
     ]
    }
   ],
   "source": [
    "print(name1)"
   ]
  },
  {
   "cell_type": "code",
   "execution_count": null,
   "id": "ca169308-1064-41a2-b5c0-d3484f9001c8",
   "metadata": {},
   "outputs": [],
   "source": [
    "# String methods"
   ]
  },
  {
   "cell_type": "code",
   "execution_count": 12,
   "id": "24ae2a4f-1125-4249-9fdd-2dd14fdfd4ee",
   "metadata": {},
   "outputs": [
    {
     "name": "stdout",
     "output_type": "stream",
     "text": [
      "Pallavi\n"
     ]
    }
   ],
   "source": [
    "print(name.title())"
   ]
  },
  {
   "cell_type": "code",
   "execution_count": 13,
   "id": "8c039a60-ab8b-4edc-9311-7df8c792ade2",
   "metadata": {},
   "outputs": [
    {
     "name": "stdout",
     "output_type": "stream",
     "text": [
      "PALLAVI\n"
     ]
    }
   ],
   "source": [
    "print(name.upper())"
   ]
  },
  {
   "cell_type": "code",
   "execution_count": 14,
   "id": "75ad1cbe-4c85-4ad5-a778-08742c823133",
   "metadata": {},
   "outputs": [
    {
     "name": "stdout",
     "output_type": "stream",
     "text": [
      "god is good\n"
     ]
    }
   ],
   "source": [
    "print(name1.lower())"
   ]
  },
  {
   "cell_type": "code",
   "execution_count": 15,
   "id": "ea08055c-1705-4cc0-9540-4a4277ffb14d",
   "metadata": {},
   "outputs": [
    {
     "name": "stdout",
     "output_type": "stream",
     "text": [
      "Pallavi\n"
     ]
    }
   ],
   "source": [
    "print(name.title())"
   ]
  },
  {
   "cell_type": "code",
   "execution_count": null,
   "id": "2e5b3c13-9280-499f-99ef-552f3b3bcc27",
   "metadata": {},
   "outputs": [],
   "source": []
  }
 ],
 "metadata": {
  "kernelspec": {
   "display_name": "Python 3 (ipykernel)",
   "language": "python",
   "name": "python3"
  },
  "language_info": {
   "codemirror_mode": {
    "name": "ipython",
    "version": 3
   },
   "file_extension": ".py",
   "mimetype": "text/x-python",
   "name": "python",
   "nbconvert_exporter": "python",
   "pygments_lexer": "ipython3",
   "version": "3.11.7"
  }
 },
 "nbformat": 4,
 "nbformat_minor": 5
}
