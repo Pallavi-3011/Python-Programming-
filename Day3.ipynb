{
 "cells": [
  {
   "cell_type": "code",
   "execution_count": 58,
   "id": "49eda70f-72f3-4502-864b-703f4902f799",
   "metadata": {},
   "outputs": [],
   "source": [
    "# Day-3 f strings"
   ]
  },
  {
   "cell_type": "code",
   "execution_count": 59,
   "id": "d4d0a7e1-9a21-4459-94e5-fe4c0f617b26",
   "metadata": {},
   "outputs": [],
   "source": [
    "firstname = 'pallavi'\n",
    "lastname = 'akkineni'\n"
   ]
  },
  {
   "cell_type": "code",
   "execution_count": 60,
   "id": "3af95138-479d-4818-9f6a-e7c4958826ac",
   "metadata": {},
   "outputs": [],
   "source": [
    "fullname = f\"{firstname}{lastname}\"\n"
   ]
  },
  {
   "cell_type": "code",
   "execution_count": 61,
   "id": "f99c7468-1f4a-48b7-8dca-b5c4e47ae410",
   "metadata": {},
   "outputs": [
    {
     "name": "stdout",
     "output_type": "stream",
     "text": [
      "pallaviakkineni\n"
     ]
    }
   ],
   "source": [
    "print(fullname)"
   ]
  },
  {
   "cell_type": "code",
   "execution_count": 62,
   "id": "0c3fc2a6-397f-477b-8bbb-e4bc4dfc17dd",
   "metadata": {},
   "outputs": [
    {
     "name": "stdout",
     "output_type": "stream",
     "text": [
      "Pallaviakkineni\n"
     ]
    }
   ],
   "source": [
    "print(fullname.title())"
   ]
  },
  {
   "cell_type": "code",
   "execution_count": 63,
   "id": "f9b97032-4892-44c2-b15a-8793a6aeb892",
   "metadata": {},
   "outputs": [
    {
     "name": "stdout",
     "output_type": "stream",
     "text": [
      "PALLAVIAKKINENI\n"
     ]
    }
   ],
   "source": [
    "print(fullname.upper())"
   ]
  },
  {
   "cell_type": "code",
   "execution_count": 64,
   "id": "5310a22c-17fc-42e4-aa61-0caaeb0d6988",
   "metadata": {},
   "outputs": [],
   "source": [
    "# Custom message "
   ]
  },
  {
   "cell_type": "code",
   "execution_count": 65,
   "id": "c15a36a0-4b93-4502-ae7a-cc502728909a",
   "metadata": {},
   "outputs": [],
   "source": [
    "message = f\"Keep up the good work,{fullname.title()}\""
   ]
  },
  {
   "cell_type": "code",
   "execution_count": 66,
   "id": "8049a430-9e86-49b7-b996-ae67ecca720c",
   "metadata": {},
   "outputs": [
    {
     "name": "stdout",
     "output_type": "stream",
     "text": [
      "Keep up the good work,Pallaviakkineni\n"
     ]
    }
   ],
   "source": [
    "print(message)"
   ]
  },
  {
   "cell_type": "code",
   "execution_count": 67,
   "id": "5dcedd7a-deef-4d4b-be81-5087114c8754",
   "metadata": {},
   "outputs": [],
   "source": [
    "#delimiters \\n"
   ]
  },
  {
   "cell_type": "code",
   "execution_count": 68,
   "id": "23de320a-29c3-4576-a75b-ece41a91abf5",
   "metadata": {},
   "outputs": [
    {
     "name": "stdout",
     "output_type": "stream",
     "text": [
      "favourite_language : \n",
      "Python\n",
      "C\n",
      "JAVA\n",
      "C++\n",
      "React\n",
      "Pascal\n"
     ]
    }
   ],
   "source": [
    "print(\"favourite_language : \\nPython\\nC\\nJAVA\\nC++\\nReact\\nPascal\")"
   ]
  },
  {
   "cell_type": "code",
   "execution_count": 69,
   "id": "54a98929-a159-4486-9288-d010de94e9bf",
   "metadata": {},
   "outputs": [],
   "source": [
    "#delimiter \\t"
   ]
  },
  {
   "cell_type": "code",
   "execution_count": 70,
   "id": "ef7c9d54-e5cc-4b7a-80a7-f5f8e24367d4",
   "metadata": {},
   "outputs": [
    {
     "name": "stdout",
     "output_type": "stream",
     "text": [
      "favourite_language : \tPython\tC\tJAVA\tC++\tReact\tPascal\n"
     ]
    }
   ],
   "source": [
    "print(\"favourite_language : \\tPython\\tC\\tJAVA\\tC++\\tReact\\tPascal\")"
   ]
  },
  {
   "cell_type": "code",
   "execution_count": 71,
   "id": "ac13c4a6-a5a4-4c20-8b07-930fc61a31a6",
   "metadata": {},
   "outputs": [],
   "source": [
    "#removing white spaces"
   ]
  },
  {
   "cell_type": "code",
   "execution_count": 72,
   "id": "7fb0d5b7-e0e3-407b-ba1c-2231d3fd8582",
   "metadata": {},
   "outputs": [
    {
     "name": "stdout",
     "output_type": "stream",
     "text": [
      " Python\n"
     ]
    }
   ],
   "source": [
    "name = ' Python'\n",
    "print(name)"
   ]
  },
  {
   "cell_type": "code",
   "execution_count": 73,
   "id": "04061b78-dee3-4a97-8f6c-2aea55985721",
   "metadata": {},
   "outputs": [
    {
     "name": "stdout",
     "output_type": "stream",
     "text": [
      "Python\n"
     ]
    }
   ],
   "source": [
    "name1 = 'Python'\n",
    "print(name1)"
   ]
  },
  {
   "cell_type": "code",
   "execution_count": 74,
   "id": "bc454d17-0793-4e8a-9474-2cff2c88c78f",
   "metadata": {},
   "outputs": [],
   "source": [
    "# left stripping"
   ]
  },
  {
   "cell_type": "code",
   "execution_count": 75,
   "id": "9ccf4e9e-4ead-45fa-82f4-cea9986435f5",
   "metadata": {},
   "outputs": [
    {
     "name": "stdout",
     "output_type": "stream",
     "text": [
      "Python\n"
     ]
    }
   ],
   "source": [
    "print(name.lstrip())"
   ]
  },
  {
   "cell_type": "code",
   "execution_count": 76,
   "id": "63be6686-00c6-4681-98f6-7e3820d45ca7",
   "metadata": {},
   "outputs": [],
   "source": [
    "# right stripping"
   ]
  },
  {
   "cell_type": "code",
   "execution_count": 77,
   "id": "dd96028f-f20a-43fe-a9e8-4f3954098360",
   "metadata": {},
   "outputs": [
    {
     "name": "stdout",
     "output_type": "stream",
     "text": [
      " Python\n"
     ]
    }
   ],
   "source": [
    "print(name.rstrip())"
   ]
  },
  {
   "cell_type": "code",
   "execution_count": 78,
   "id": "2b557ec6-23bc-4ccc-9ae4-768e1e37f79d",
   "metadata": {},
   "outputs": [
    {
     "name": "stdout",
     "output_type": "stream",
     "text": [
      "Python\n"
     ]
    }
   ],
   "source": [
    "name2 = ' Python '\n",
    "print(name2.strip())"
   ]
  },
  {
   "cell_type": "code",
   "execution_count": 83,
   "id": "88f28744-d104-45f3-96f0-12f02d124b24",
   "metadata": {},
   "outputs": [],
   "source": [
    "import this"
   ]
  },
  {
   "cell_type": "code",
   "execution_count": null,
   "id": "414082f1-3875-4740-b58f-855e1c112936",
   "metadata": {},
   "outputs": [],
   "source": []
  },
  {
   "cell_type": "code",
   "execution_count": null,
   "id": "b0d25e30-910e-44e1-8f41-fd003a1d4f9c",
   "metadata": {},
   "outputs": [],
   "source": []
  },
  {
   "cell_type": "code",
   "execution_count": null,
   "id": "7e4d83ed-74cf-47be-b953-63eab21d6559",
   "metadata": {},
   "outputs": [],
   "source": []
  },
  {
   "cell_type": "code",
   "execution_count": null,
   "id": "84c06367-4fb3-451e-b60b-2f6ee98eb854",
   "metadata": {},
   "outputs": [],
   "source": []
  },
  {
   "cell_type": "code",
   "execution_count": null,
   "id": "31cbe4ca-9a2e-4948-a04d-e7ab8d05ab2d",
   "metadata": {},
   "outputs": [],
   "source": []
  },
  {
   "cell_type": "code",
   "execution_count": null,
   "id": "2ddc95d1-952c-435b-8fba-13fddbec7657",
   "metadata": {},
   "outputs": [],
   "source": []
  },
  {
   "cell_type": "code",
   "execution_count": null,
   "id": "9d84790e-79c3-4c08-aa99-f4b2cef637bc",
   "metadata": {},
   "outputs": [],
   "source": []
  },
  {
   "cell_type": "code",
   "execution_count": null,
   "id": "d08a7c74-63cb-4f91-8c7e-d2b48762ef01",
   "metadata": {},
   "outputs": [],
   "source": []
  },
  {
   "cell_type": "code",
   "execution_count": null,
   "id": "ecce992b-fb82-4770-afa4-e4e4aabd206f",
   "metadata": {},
   "outputs": [],
   "source": []
  },
  {
   "cell_type": "code",
   "execution_count": null,
   "id": "93276b1c-0265-445a-9284-3bc74239c9e4",
   "metadata": {},
   "outputs": [],
   "source": []
  },
  {
   "cell_type": "code",
   "execution_count": null,
   "id": "fa309aae-520c-4b0a-82bd-b6eb4b2079c5",
   "metadata": {},
   "outputs": [],
   "source": []
  }
 ],
 "metadata": {
  "kernelspec": {
   "display_name": "Python 3 (ipykernel)",
   "language": "python",
   "name": "python3"
  },
  "language_info": {
   "codemirror_mode": {
    "name": "ipython",
    "version": 3
   },
   "file_extension": ".py",
   "mimetype": "text/x-python",
   "name": "python",
   "nbconvert_exporter": "python",
   "pygments_lexer": "ipython3",
   "version": "3.11.7"
  }
 },
 "nbformat": 4,
 "nbformat_minor": 5
}
