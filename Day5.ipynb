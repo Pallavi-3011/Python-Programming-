{
 "cells": [
  {
   "cell_type": "code",
   "execution_count": null,
   "id": "fcfad74d-f7ea-44f4-bb45-3e029c5a4258",
   "metadata": {},
   "outputs": [],
   "source": [
    "# Day-5"
   ]
  },
  {
   "cell_type": "code",
   "execution_count": 1,
   "id": "b7d9208e-5992-40e3-b7ef-310ef17281f7",
   "metadata": {},
   "outputs": [],
   "source": [
    "cars = ['maruthi','bmw','toyota','suzuki','audi','kia','benz']"
   ]
  },
  {
   "cell_type": "code",
   "execution_count": 2,
   "id": "8f10dcc5-3feb-4e0b-841f-24070bb7e47f",
   "metadata": {},
   "outputs": [
    {
     "name": "stdout",
     "output_type": "stream",
     "text": [
      "['maruthi', 'bmw', 'toyota', 'suzuki', 'audi', 'kia', 'benz']\n"
     ]
    }
   ],
   "source": [
    "print(cars)"
   ]
  },
  {
   "cell_type": "code",
   "execution_count": null,
   "id": "b36b2259-c414-4dc7-ade5-9a7c3bc0e7ae",
   "metadata": {},
   "outputs": [],
   "source": [
    "#organazing data using temporary method \"sorted\""
   ]
  },
  {
   "cell_type": "code",
   "execution_count": 7,
   "id": "1593cc37-66b9-4535-853c-4af59c5862b0",
   "metadata": {},
   "outputs": [
    {
     "name": "stdout",
     "output_type": "stream",
     "text": [
      "['audi', 'benz', 'bmw', 'kia', 'maruthi', 'suzuki', 'toyota']\n"
     ]
    }
   ],
   "source": [
    "print(sorted(cars))"
   ]
  },
  {
   "cell_type": "code",
   "execution_count": 8,
   "id": "47584c13-0472-461a-b9a0-8e077a6e8618",
   "metadata": {},
   "outputs": [
    {
     "name": "stdout",
     "output_type": "stream",
     "text": [
      "['audi', 'benz', 'bmw', 'kia', 'maruthi', 'suzuki', 'toyota']\n"
     ]
    }
   ],
   "source": [
    "print(cars)"
   ]
  },
  {
   "cell_type": "code",
   "execution_count": null,
   "id": "11bb59fe-7569-418a-a210-1501b679555c",
   "metadata": {},
   "outputs": [],
   "source": [
    "# permanent method"
   ]
  },
  {
   "cell_type": "code",
   "execution_count": 9,
   "id": "86376806-9934-4ca2-aa01-f9f42f6930ab",
   "metadata": {},
   "outputs": [],
   "source": [
    "cars.sort()"
   ]
  },
  {
   "cell_type": "code",
   "execution_count": 10,
   "id": "a18bc6c2-de3f-48b6-8cdf-061ced8ceb68",
   "metadata": {},
   "outputs": [
    {
     "name": "stdout",
     "output_type": "stream",
     "text": [
      "['audi', 'benz', 'bmw', 'kia', 'maruthi', 'suzuki', 'toyota']\n"
     ]
    }
   ],
   "source": [
    "print(cars)"
   ]
  },
  {
   "cell_type": "code",
   "execution_count": 11,
   "id": "5ee4d489-423b-4488-b48a-3b11328ae9bf",
   "metadata": {},
   "outputs": [
    {
     "name": "stdout",
     "output_type": "stream",
     "text": [
      "['audi', 'benz', 'bmw', 'kia', 'maruthi', 'suzuki', 'toyota']\n"
     ]
    }
   ],
   "source": [
    "print(cars)"
   ]
  },
  {
   "cell_type": "code",
   "execution_count": null,
   "id": "952c7de9-e00e-476b-b327-e4c84d74f1ab",
   "metadata": {},
   "outputs": [],
   "source": [
    "# Reverse order"
   ]
  },
  {
   "cell_type": "code",
   "execution_count": 12,
   "id": "bbd30285-0906-420f-ac4f-90a7b59c1c5c",
   "metadata": {},
   "outputs": [],
   "source": [
    "cars.reverse()"
   ]
  },
  {
   "cell_type": "code",
   "execution_count": 13,
   "id": "7998a391-34f9-4348-9e34-5bcb62356d25",
   "metadata": {},
   "outputs": [
    {
     "name": "stdout",
     "output_type": "stream",
     "text": [
      "['toyota', 'suzuki', 'maruthi', 'kia', 'bmw', 'benz', 'audi']\n"
     ]
    }
   ],
   "source": [
    "print(cars)"
   ]
  },
  {
   "cell_type": "code",
   "execution_count": null,
   "id": "28cdb1d9-f40d-4486-85f4-c0d21ae170f0",
   "metadata": {},
   "outputs": [],
   "source": [
    "# "
   ]
  }
 ],
 "metadata": {
  "kernelspec": {
   "display_name": "Python 3 (ipykernel)",
   "language": "python",
   "name": "python3"
  },
  "language_info": {
   "codemirror_mode": {
    "name": "ipython",
    "version": 3
   },
   "file_extension": ".py",
   "mimetype": "text/x-python",
   "name": "python",
   "nbconvert_exporter": "python",
   "pygments_lexer": "ipython3",
   "version": "3.11.7"
  }
 },
 "nbformat": 4,
 "nbformat_minor": 5
}
