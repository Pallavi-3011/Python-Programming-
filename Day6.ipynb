{
 "cells": [
  {
   "cell_type": "code",
   "execution_count": null,
   "id": "a7e3977f-84e2-4d2c-8adc-c3606059570d",
   "metadata": {},
   "outputs": [],
   "source": [
    "#Day 6"
   ]
  },
  {
   "cell_type": "code",
   "execution_count": null,
   "id": "0dddcd28-142c-4f98-abd1-ad694063ef16",
   "metadata": {},
   "outputs": [],
   "source": [
    "# Slicing the list"
   ]
  },
  {
   "cell_type": "code",
   "execution_count": 1,
   "id": "63ef6bbe-54ed-4976-a4a9-ec8b7036ca9a",
   "metadata": {},
   "outputs": [],
   "source": [
    "students = ['Naveen','Raju','Khader','joseph','keerthi','sahana']"
   ]
  },
  {
   "cell_type": "code",
   "execution_count": 2,
   "id": "678c5dcf-32b6-49c1-ab43-43e8db90fc55",
   "metadata": {},
   "outputs": [
    {
     "name": "stdout",
     "output_type": "stream",
     "text": [
      "['Naveen', 'Raju', 'Khader', 'joseph', 'keerthi', 'sahana']\n"
     ]
    }
   ],
   "source": [
    "print(students)"
   ]
  },
  {
   "cell_type": "code",
   "execution_count": 3,
   "id": "89d0ad57-df24-41c4-8d5a-e96bb1b412db",
   "metadata": {},
   "outputs": [
    {
     "name": "stdout",
     "output_type": "stream",
     "text": [
      "['Naveen']\n"
     ]
    }
   ],
   "source": [
    "print(students[0:1])"
   ]
  },
  {
   "cell_type": "code",
   "execution_count": 5,
   "id": "0100ec4c-3fb1-45d5-a327-338cdfc58849",
   "metadata": {},
   "outputs": [
    {
     "name": "stdout",
     "output_type": "stream",
     "text": [
      "['Naveen', 'Raju']\n"
     ]
    }
   ],
   "source": [
    "print(students[0:2])"
   ]
  },
  {
   "cell_type": "code",
   "execution_count": 6,
   "id": "7c8bcd09-545d-49c8-bda1-48bbcb961151",
   "metadata": {},
   "outputs": [
    {
     "name": "stdout",
     "output_type": "stream",
     "text": [
      "['Raju', 'Khader', 'joseph']\n"
     ]
    }
   ],
   "source": [
    "print(students[1:4])"
   ]
  },
  {
   "cell_type": "code",
   "execution_count": 7,
   "id": "13c59ca7-1142-417d-97f2-f7db254f49cb",
   "metadata": {},
   "outputs": [
    {
     "name": "stdout",
     "output_type": "stream",
     "text": [
      "['Khader', 'joseph']\n"
     ]
    }
   ],
   "source": [
    "print(students[2:4])"
   ]
  },
  {
   "cell_type": "code",
   "execution_count": 8,
   "id": "89a1d8e5-e4ee-427e-9b62-5a6e804a69ef",
   "metadata": {},
   "outputs": [
    {
     "name": "stdout",
     "output_type": "stream",
     "text": [
      "['keerthi', 'sahana']\n"
     ]
    }
   ],
   "source": [
    "print(students[4:6])"
   ]
  },
  {
   "cell_type": "code",
   "execution_count": null,
   "id": "add9640f-634f-43d8-a626-8c6af5754b05",
   "metadata": {},
   "outputs": [],
   "source": [
    "#step count"
   ]
  },
  {
   "cell_type": "code",
   "execution_count": 9,
   "id": "1ab89fa1-1e31-4670-835a-238ff128e5fd",
   "metadata": {},
   "outputs": [
    {
     "name": "stdout",
     "output_type": "stream",
     "text": [
      "['Naveen', 'Khader', 'keerthi']\n"
     ]
    }
   ],
   "source": [
    "print(students[0:6:2])"
   ]
  },
  {
   "cell_type": "code",
   "execution_count": 10,
   "id": "c6bd8520-e8be-4be0-b690-56803f57a1a0",
   "metadata": {},
   "outputs": [
    {
     "name": "stdout",
     "output_type": "stream",
     "text": [
      "['Naveen', 'joseph']\n"
     ]
    }
   ],
   "source": [
    "print(students[0:6:3])"
   ]
  },
  {
   "cell_type": "code",
   "execution_count": 12,
   "id": "cc23384b-a130-4f25-b6b6-e516da7e117d",
   "metadata": {},
   "outputs": [
    {
     "name": "stdout",
     "output_type": "stream",
     "text": [
      "['Naveen', 'keerthi']\n"
     ]
    }
   ],
   "source": [
    "print(students[0:6:4])"
   ]
  },
  {
   "cell_type": "code",
   "execution_count": null,
   "id": "6864bdbc-e2ba-40df-a362-8aa3d14b7944",
   "metadata": {},
   "outputs": [],
   "source": [
    "# Looping statements"
   ]
  },
  {
   "cell_type": "code",
   "execution_count": 13,
   "id": "deae0384-32f6-4d85-895a-1bd66d972659",
   "metadata": {},
   "outputs": [
    {
     "name": "stdout",
     "output_type": "stream",
     "text": [
      "['Naveen', 'Raju', 'Khader', 'joseph', 'keerthi', 'sahana']\n"
     ]
    }
   ],
   "source": [
    "print(students)"
   ]
  },
  {
   "cell_type": "code",
   "execution_count": 24,
   "id": "8049dbd4-0809-4c18-9937-5a6bc6330152",
   "metadata": {},
   "outputs": [
    {
     "name": "stdout",
     "output_type": "stream",
     "text": [
      "Keep up the good work,Naveen\n",
      "Do share the GITHUB Url of today for reviewNaveen\n",
      "\n",
      "Keep up the good work,Raju\n",
      "Do share the GITHUB Url of today for reviewRaju\n",
      "\n",
      "Keep up the good work,Khader\n",
      "Do share the GITHUB Url of today for reviewKhader\n",
      "\n",
      "Keep up the good work,joseph\n",
      "Do share the GITHUB Url of today for reviewjoseph\n",
      "\n",
      "Keep up the good work,keerthi\n",
      "Do share the GITHUB Url of today for reviewkeerthi\n",
      "\n",
      "Keep up the good work,sahana\n",
      "Do share the GITHUB Url of today for reviewsahana\n",
      "\n"
     ]
    }
   ],
   "source": [
    "for x in students:\n",
    "    print(f\"Keep up the good work,{x}\")\n",
    "    print(f\"Do share the GITHUB Url of today for review{x}\\n\")\n",
    "   \n",
    "    "
   ]
  },
  {
   "cell_type": "code",
   "execution_count": null,
   "id": "80890fd3-433e-4628-8790-5b66749b9352",
   "metadata": {},
   "outputs": [],
   "source": []
  },
  {
   "cell_type": "code",
   "execution_count": null,
   "id": "1e766144-5a83-44b0-a9df-db347388f9ff",
   "metadata": {},
   "outputs": [],
   "source": [
    " print(f\" Do share the Github URL of today for review {x}\\n\")"
   ]
  },
  {
   "cell_type": "code",
   "execution_count": null,
   "id": "85fd17a6-ec71-4105-8286-5cad509ad5fc",
   "metadata": {},
   "outputs": [],
   "source": []
  }
 ],
 "metadata": {
  "kernelspec": {
   "display_name": "Python 3 (ipykernel)",
   "language": "python",
   "name": "python3"
  },
  "language_info": {
   "codemirror_mode": {
    "name": "ipython",
    "version": 3
   },
   "file_extension": ".py",
   "mimetype": "text/x-python",
   "name": "python",
   "nbconvert_exporter": "python",
   "pygments_lexer": "ipython3",
   "version": "3.11.7"
  }
 },
 "nbformat": 4,
 "nbformat_minor": 5
}
