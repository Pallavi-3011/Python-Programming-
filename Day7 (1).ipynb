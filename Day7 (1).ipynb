{
 "cells": [
  {
   "cell_type": "code",
   "execution_count": 12,
   "id": "beaae629-2fe4-428c-9b85-587508b47478",
   "metadata": {},
   "outputs": [],
   "source": [
    "# Tuple datatype"
   ]
  },
  {
   "cell_type": "code",
   "execution_count": 13,
   "id": "9f9a263a-fcbf-4c19-9ff2-0709b6d51039",
   "metadata": {},
   "outputs": [],
   "source": [
    "students = ('ramesh','vishal','keerthi','pranavi','joseph','abdul')"
   ]
  },
  {
   "cell_type": "code",
   "execution_count": 14,
   "id": "c593e00a-c49c-4833-b79e-55ee55973519",
   "metadata": {},
   "outputs": [
    {
     "name": "stdout",
     "output_type": "stream",
     "text": [
      "('ramesh', 'vishal', 'keerthi', 'pranavi', 'joseph', 'abdul')\n"
     ]
    }
   ],
   "source": [
    "print(students)"
   ]
  },
  {
   "cell_type": "code",
   "execution_count": 15,
   "id": "36f023a3-7fcc-4d6a-8c2b-f50f9a22cee5",
   "metadata": {},
   "outputs": [
    {
     "data": {
      "text/plain": [
       "tuple"
      ]
     },
     "execution_count": 15,
     "metadata": {},
     "output_type": "execute_result"
    }
   ],
   "source": [
    "type(students)"
   ]
  },
  {
   "cell_type": "code",
   "execution_count": 16,
   "id": "012abd5d-c2d6-4c74-9f7a-13895c372a36",
   "metadata": {},
   "outputs": [
    {
     "name": "stdout",
     "output_type": "stream",
     "text": [
      "ramesh\n"
     ]
    }
   ],
   "source": [
    "print(students[0])"
   ]
  },
  {
   "cell_type": "code",
   "execution_count": 17,
   "id": "8d4760c5-b06e-48f1-833e-fcea131b6c71",
   "metadata": {},
   "outputs": [],
   "source": [
    "dimensions = (200,50)"
   ]
  },
  {
   "cell_type": "code",
   "execution_count": 18,
   "id": "81f3d627-f7a2-4479-9d91-8c6e47eedffb",
   "metadata": {},
   "outputs": [
    {
     "name": "stdout",
     "output_type": "stream",
     "text": [
      "ramesh\n",
      "vishal\n",
      "keerthi\n",
      "pranavi\n",
      "joseph\n",
      "abdul\n"
     ]
    }
   ],
   "source": [
    "for a in students :\n",
    "    print(a)"
   ]
  },
  {
   "cell_type": "code",
   "execution_count": 19,
   "id": "f2d02fb4-263e-44a6-9b0f-a46ea1008333",
   "metadata": {},
   "outputs": [],
   "source": [
    "# indentation error if space is removed before print"
   ]
  },
  {
   "cell_type": "code",
   "execution_count": 20,
   "id": "6944d6c1-1ff7-4cd1-9cfe-10b92edacef9",
   "metadata": {},
   "outputs": [
    {
     "ename": "IndentationError",
     "evalue": "expected an indented block after 'for' statement on line 1 (3169144191.py, line 2)",
     "output_type": "error",
     "traceback": [
      "\u001b[1;36m  Cell \u001b[1;32mIn[20], line 2\u001b[1;36m\u001b[0m\n\u001b[1;33m    print(b)\u001b[0m\n\u001b[1;37m    ^\u001b[0m\n\u001b[1;31mIndentationError\u001b[0m\u001b[1;31m:\u001b[0m expected an indented block after 'for' statement on line 1\n"
     ]
    }
   ],
   "source": [
    "for b in students:\n",
    "print(b)"
   ]
  },
  {
   "cell_type": "code",
   "execution_count": null,
   "id": "55d16416-e13d-4c91-a85c-32f9b559aa51",
   "metadata": {},
   "outputs": [],
   "source": [
    "# Dictionaries"
   ]
  },
  {
   "cell_type": "code",
   "execution_count": 21,
   "id": "1a709d9b-6d5d-4d3a-99af-0301cc3b0430",
   "metadata": {},
   "outputs": [],
   "source": [
    "alien = {'color':'green','points':5}"
   ]
  },
  {
   "cell_type": "code",
   "execution_count": 22,
   "id": "d9e6c06f-bed9-4f13-b491-b42b71070441",
   "metadata": {},
   "outputs": [
    {
     "name": "stdout",
     "output_type": "stream",
     "text": [
      "green\n"
     ]
    }
   ],
   "source": [
    "print(alien['color'])"
   ]
  },
  {
   "cell_type": "code",
   "execution_count": null,
   "id": "7894c536-607d-4b8a-ba1b-b3cc7069071f",
   "metadata": {},
   "outputs": [],
   "source": []
  }
 ],
 "metadata": {
  "kernelspec": {
   "display_name": "Python 3 (ipykernel)",
   "language": "python",
   "name": "python3"
  },
  "language_info": {
   "codemirror_mode": {
    "name": "ipython",
    "version": 3
   },
   "file_extension": ".py",
   "mimetype": "text/x-python",
   "name": "python",
   "nbconvert_exporter": "python",
   "pygments_lexer": "ipython3",
   "version": "3.11.7"
  }
 },
 "nbformat": 4,
 "nbformat_minor": 5
}
